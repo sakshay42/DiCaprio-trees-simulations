{
 "cells": [
  {
   "cell_type": "code",
   "execution_count": 6,
   "metadata": {
    "id": "BJbg8Pe84Z0L"
   },
   "outputs": [
    {
     "ename": "ModuleNotFoundError",
     "evalue": "No module named 'graph_tool'",
     "output_type": "error",
     "traceback": [
      "\u001b[0;31m---------------------------------------------------------------------------\u001b[0m",
      "\u001b[0;31mModuleNotFoundError\u001b[0m                       Traceback (most recent call last)",
      "Cell \u001b[0;32mIn[6], line 8\u001b[0m\n\u001b[1;32m      5\u001b[0m \u001b[38;5;28;01mfrom\u001b[39;00m \u001b[38;5;21;01mnumpy\u001b[39;00m\u001b[38;5;21;01m.\u001b[39;00m\u001b[38;5;21;01mrandom\u001b[39;00m \u001b[38;5;28;01mimport\u001b[39;00m \u001b[38;5;241m*\u001b[39m  \n\u001b[1;32m      6\u001b[0m seed(\u001b[38;5;241m42\u001b[39m)\n\u001b[0;32m----> 8\u001b[0m \u001b[38;5;28;01mfrom\u001b[39;00m \u001b[38;5;21;01mgraph_tool\u001b[39;00m\u001b[38;5;21;01m.\u001b[39;00m\u001b[38;5;21;01mall\u001b[39;00m \u001b[38;5;28;01mimport\u001b[39;00m \u001b[38;5;241m*\u001b[39m\n\u001b[1;32m      9\u001b[0m \u001b[38;5;28;01mimport\u001b[39;00m \u001b[38;5;21;01mmatplotlib\u001b[39;00m\n\u001b[1;32m     10\u001b[0m \u001b[38;5;28;01mfrom\u001b[39;00m \u001b[38;5;21;01mmatplotlib\u001b[39;00m \u001b[38;5;28;01mimport\u001b[39;00m pyplot\n",
      "\u001b[0;31mModuleNotFoundError\u001b[0m: No module named 'graph_tool'"
     ]
    }
   ],
   "source": [
    "from __future__ import division, absolute_import, print_function\n",
    "import sys\n",
    "import os\n",
    "from pylab import *  \n",
    "from numpy.random import *  \n",
    "seed(42)\n",
    "\n",
    "from graph_tool.all import *\n",
    "import matplotlib\n",
    "from matplotlib import pyplot\n",
    "import itertools"
   ]
  },
  {
   "cell_type": "code",
   "execution_count": null,
   "metadata": {
    "colab": {
     "base_uri": "https://localhost:8080/",
     "height": 35
    },
    "id": "SzMILbaE4r1C",
    "outputId": "645b3562-f35c-4999-c8f9-239dc012e6b4"
   },
   "outputs": [],
   "source": [
    "from google.colab import files\n",
    "uploaded = files.upload()\n",
    "\n",
    "filename = list(uploaded.keys())[0]"
   ]
  },
  {
   "cell_type": "code",
   "execution_count": null,
   "metadata": {
    "id": "wxCvieFH5hq5"
   },
   "outputs": [],
   "source": [
    "from graph_tool.all import Graph, load_graph\n",
    "from graph_tool.draw import fruchterman_reingold_layout\n",
    "from graph_tool.draw import sfdp_layout\n",
    "\n",
    "g2 = load_graph(filename, fmt=\"graphml\")\n",
    "\n",
    "\n",
    "print(g2)"
   ]
  },
  {
   "cell_type": "code",
   "execution_count": null,
   "metadata": {
    "id": "VoUhZczl5itO"
   },
   "outputs": [],
   "source": [
    "deg = g2.degree_property_map(\"total\")\n",
    "deg.a = 4 + 2*np.sqrt(deg.a)"
   ]
  },
  {
   "cell_type": "code",
   "execution_count": null,
   "metadata": {
    "id": "rwUAQNm45nIL"
   },
   "outputs": [],
   "source": [
    "from graph_tool.centrality import betweenness\n",
    "from graph_tool.all import radial_tree_layout\n",
    "import numpy as np\n",
    "\n",
    "# Edge betweenness\n",
    "ebet = betweenness(g2)[1]\n",
    "ebet.a /= ebet.a.max() / 10.\n",
    "eorder = ebet.copy()\n",
    "eorder.a *= -1\n",
    "\n",
    "# Radial tree layout\n",
    "root = g2.vertex(0)\n",
    "pos_tmp = radial_tree_layout(g2, root=root)\n",
    "\n",
    "# Extract to numpy\n",
    "pos_array = np.array([pos_tmp[v] for v in g2.vertices()])\n",
    "\n",
    "# Swap x and y (vertical layout)\n",
    "pos_array = pos_array[:, [1, 0]]\n",
    "\n",
    "# Normalize and scale\n",
    "pos_array -= pos_array.min(axis=0)\n",
    "pos_array /= pos_array.max(axis=0)\n",
    "pos_array *= 1000\n",
    "pos_array += np.random.uniform(0, 10, size=pos_array.shape)\n",
    "\n",
    "# Write back to a Graph-Tool property map\n",
    "pos = g2.new_vertex_property(\"vector<double>\")\n",
    "for i, v in enumerate(g2.vertices()):\n",
    "    pos[v] = pos_array[i]\n",
    "\n",
    "# Edge vector property\n",
    "control = g2.new_edge_property(\"vector<double>\")"
   ]
  },
  {
   "cell_type": "code",
   "execution_count": null,
   "metadata": {
    "id": "ndRNQJbR7i7N"
   },
   "outputs": [],
   "source": [
    "graph_tool.draw.graphviz_draw(g2,vsize = 0.0425, vcolor = \"#3374FF\", vorder=deg, elen=10,\n",
    "...                  ecolor=\"#FF3333\", eorder=ebet, penwidth=2, output=\"macro_100k_0.75.pdf\")"
   ]
  },
  {
   "cell_type": "code",
   "execution_count": null,
   "metadata": {
    "id": "80v4-3my7p1a"
   },
   "outputs": [],
   "source": [
    "\n"
   ]
  }
 ],
 "metadata": {
  "colab": {
   "provenance": []
  },
  "kernelspec": {
   "display_name": "Python [conda env:base] *",
   "language": "python",
   "name": "conda-base-py"
  },
  "language_info": {
   "codemirror_mode": {
    "name": "ipython",
    "version": 3
   },
   "file_extension": ".py",
   "mimetype": "text/x-python",
   "name": "python",
   "nbconvert_exporter": "python",
   "pygments_lexer": "ipython3",
   "version": "3.12.7"
  }
 },
 "nbformat": 4,
 "nbformat_minor": 4
}
